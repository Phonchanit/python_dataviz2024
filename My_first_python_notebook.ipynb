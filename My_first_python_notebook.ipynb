{
  "nbformat": 4,
  "nbformat_minor": 0,
  "metadata": {
    "colab": {
      "provenance": [],
      "authorship_tag": "ABX9TyNDS82lK1RhucfPO23tqQcL",
      "include_colab_link": true
    },
    "kernelspec": {
      "name": "python3",
      "display_name": "Python 3"
    },
    "language_info": {
      "name": "python"
    }
  },
  "cells": [
    {
      "cell_type": "markdown",
      "metadata": {
        "id": "view-in-github",
        "colab_type": "text"
      },
      "source": [
        "<a href=\"https://colab.research.google.com/github/Phonchanit/python_dataviz2024/blob/main/My_first_python_notebook.ipynb\" target=\"_parent\"><img src=\"https://colab.research.google.com/assets/colab-badge.svg\" alt=\"Open In Colab\"/></a>"
      ]
    },
    {
      "cell_type": "markdown",
      "source": [
        "Basic Programming for Data Science & Data Visualization"
      ],
      "metadata": {
        "id": "_YTlreJyR4p9"
      }
    },
    {
      "cell_type": "markdown",
      "source": [
        "here we use **Markdown**"
      ],
      "metadata": {
        "id": "94jSrDlQSCtb"
      }
    },
    {
      "cell_type": "code",
      "source": [
        "print('Phonchanit')"
      ],
      "metadata": {
        "colab": {
          "base_uri": "https://localhost:8080/"
        },
        "id": "1nNwPIsRStqh",
        "outputId": "84e7bdef-0954-4fcc-faa1-054db8771b11"
      },
      "execution_count": 2,
      "outputs": [
        {
          "output_type": "stream",
          "name": "stdout",
          "text": [
            "Phonchanit\n"
          ]
        }
      ]
    },
    {
      "cell_type": "code",
      "source": [
        "print('Laowyotee')"
      ],
      "metadata": {
        "colab": {
          "base_uri": "https://localhost:8080/"
        },
        "id": "uPCVAgqIS1kF",
        "outputId": "7f102a67-4c68-48ff-c335-b4f9b934e8b8"
      },
      "execution_count": 3,
      "outputs": [
        {
          "output_type": "stream",
          "name": "stdout",
          "text": [
            "Laowyotee\n"
          ]
        }
      ]
    }
  ]
}